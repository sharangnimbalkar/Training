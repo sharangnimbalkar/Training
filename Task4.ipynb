{
 "cells": [
  {
   "cell_type": "code",
   "execution_count": 18,
   "metadata": {},
   "outputs": [
    {
     "name": "stdin",
     "output_type": "stream",
     "text": [
      "Enter the string:  abcd1234\n"
     ]
    },
    {
     "name": "stdout",
     "output_type": "stream",
     "text": [
      "4321dcba\n"
     ]
    }
   ],
   "source": [
    "# Question 1: Write a program using function USINto reverse a string. \n",
    "\n",
    "def rev():\n",
    "    value = input(\"Enter the string: \")\n",
    "    reverse = value[::-1]\n",
    "    return reverse\n",
    "\n",
    "val = rev()\n",
    "print(val)"
   ]
  },
  {
   "cell_type": "code",
   "execution_count": 21,
   "metadata": {},
   "outputs": [
    {
     "name": "stdin",
     "output_type": "stream",
     "text": [
      "Enter the string:  hjbfadKIHIBK\n"
     ]
    },
    {
     "name": "stdout",
     "output_type": "stream",
     "text": [
      "Lowercase letters:  6\n",
      "Uppercase letters:  6\n"
     ]
    }
   ],
   "source": [
    "# Question 2: Write a function that accepts a string and calculate the number of uppercase letters and lowercase letters.\n",
    "\n",
    "def case(value):\n",
    "    count = 0\n",
    "    num = 0\n",
    "    for i in value:\n",
    "        if(i.islower()):\n",
    "            count = count + 1\n",
    "        elif (i.isupper()):\n",
    "            num = num + 1\n",
    "    print(\"Lowercase letters: \",count)\n",
    "    print(\"Uppercase letters: \",num)\n",
    "\n",
    "\n",
    "value = input(\"Enter the string: \")\n",
    "case(value)\n"
   ]
  },
  {
   "cell_type": "code",
   "execution_count": 29,
   "metadata": {},
   "outputs": [
    {
     "data": {
      "text/plain": [
       "{1, 2, 3, 4, 5}"
      ]
     },
     "execution_count": 29,
     "metadata": {},
     "output_type": "execute_result"
    }
   ],
   "source": [
    "# Question 3: Create a function that takes a list and returns a new list with unique elements of the first list\n",
    "\n",
    "def unique(user_list):\n",
    "    for i in user_list:\n",
    "        new = set(user_list)\n",
    "    return new\n",
    "\n",
    "user_list = [1, 2, 3, 4, 1, 2, 3, 4, 5]\n",
    "new_list = unique(user_list)\n",
    "new_list"
   ]
  },
  {
   "cell_type": "code",
   "execution_count": 49,
   "metadata": {},
   "outputs": [
    {
     "name": "stdin",
     "output_type": "stream",
     "text": [
      "Enter the string:  a-v-d-c-b\n"
     ]
    },
    {
     "name": "stdout",
     "output_type": "stream",
     "text": [
      "a-b-c-d-v\n"
     ]
    }
   ],
   "source": [
    "# Question 4: Write a program that accepts a hyphen-separated sequence of words as input and prints the words in a hyphen-separated sequence after sorting them alphabetically\n",
    "\n",
    "def sort(value):\n",
    "        value.sort()\n",
    "        print('-'.join(value))\n",
    "    \n",
    "value = input(\"Enter the string: \").split('-')\n",
    "sort(value)\n"
   ]
  },
  {
   "cell_type": "code",
   "execution_count": 51,
   "metadata": {},
   "outputs": [
    {
     "name": "stdin",
     "output_type": "stream",
     "text": [
      " hi\n"
     ]
    },
    {
     "name": "stdout",
     "output_type": "stream",
     "text": [
      "HI\n"
     ]
    },
    {
     "name": "stdin",
     "output_type": "stream",
     "text": [
      " \n"
     ]
    }
   ],
   "source": [
    "# Question 5: Write a program that accepts a sequence of lines as input and prints the lines after making all characters in the sentence capitalized. \n",
    "\n",
    "def upper(value):\n",
    "    new = value.upper()\n",
    "    return new\n",
    "\n",
    "while True:\n",
    "    value = input()\n",
    "    if value:\n",
    "        new = upper(value)\n",
    "        print(new)\n",
    "    else:\n",
    "        break\n",
    "        \n"
   ]
  },
  {
   "cell_type": "code",
   "execution_count": 55,
   "metadata": {},
   "outputs": [
    {
     "name": "stdin",
     "output_type": "stream",
     "text": [
      "Enter num 1:  2\n",
      "Enter num 2:  3\n"
     ]
    },
    {
     "data": {
      "text/plain": [
       "5"
      ]
     },
     "execution_count": 55,
     "metadata": {},
     "output_type": "execute_result"
    }
   ],
   "source": [
    "# Question 6: Define a function that can receive two integral numbers in string form and compute their sum and print it in console.\n",
    "\n",
    "def add(num1, num2):\n",
    "    res = int(num1) + int(num2)\n",
    "    return res\n",
    "\n",
    "num1 = input(\"Enter num 1: \")\n",
    "num2 = input(\"Enter num 2: \")\n",
    "total = add(num1, num2)\n",
    "total"
   ]
  },
  {
   "cell_type": "code",
   "execution_count": 56,
   "metadata": {},
   "outputs": [
    {
     "name": "stdin",
     "output_type": "stream",
     "text": [
      "Enter first string:  hello hi\n",
      "Enter second string:  hello bye\n"
     ]
    },
    {
     "name": "stdout",
     "output_type": "stream",
     "text": [
      "String 2 is longer:  hello bye\n"
     ]
    }
   ],
   "source": [
    "# Question 7: Define a function that can accept two strings as input and print the string with maximum length in console. If two strings have the same length, then the function should print all strings line by line.\n",
    "\n",
    "def compare_string(str1, str2):\n",
    "    if len(str1) > len(str2):\n",
    "        print('String 1 is longer: ', str1)\n",
    "    elif len(str1) < len(str2):\n",
    "        print('String 2 is longer: ', str2)\n",
    "    else:\n",
    "        print('Strings length are equal!')\n",
    "\n",
    "string1 = input(\"Enter first string: \")\n",
    "string2 = input(\"Enter second string: \")\n",
    "compare_string(string1, string2)"
   ]
  },
  {
   "cell_type": "code",
   "execution_count": 78,
   "metadata": {},
   "outputs": [
    {
     "name": "stdout",
     "output_type": "stream",
     "text": [
      "([1, 4, 9, 16, 25, 36, 49, 64, 81, 100, 121, 144, 169, 196, 225, 256, 289, 324, 361, 400],)\n"
     ]
    }
   ],
   "source": [
    "# Question 8: Define a function which can generate and print a tuple where the value are square of numbers between 1 and 20.\n",
    "\n",
    "def gen_tuple():\n",
    "    num = list()\n",
    "    for i in range(1,21):\n",
    "        num.append(i**2)\n",
    "    tup = tuple([num])\n",
    "    print(tup)\n",
    "\n",
    "gen_tuple()\n",
    "\n",
    "    \n"
   ]
  },
  {
   "cell_type": "code",
   "execution_count": 83,
   "metadata": {},
   "outputs": [
    {
     "name": "stdin",
     "output_type": "stream",
     "text": [
      "Enter limit:  5\n"
     ]
    },
    {
     "name": "stdout",
     "output_type": "stream",
     "text": [
      "0 EVEN\n",
      "1 ODD\n",
      "2 EVEN\n",
      "3 ODD\n",
      "4 EVEN\n",
      "5 ODD\n"
     ]
    }
   ],
   "source": [
    "# Question 9: Write a function called showNumbers that takes a parameter called limit. It should print all the numbers between 0 and limit with a label to identify the even and odd numbers. \n",
    "\n",
    "def showNumbers(limit):\n",
    "    for i in range(0,limit+1):\n",
    "        if i%2 == 0:\n",
    "            print(i, \"EVEN\")\n",
    "        else:\n",
    "            print(i, \"ODD\")\n",
    "\n",
    "num = int(input(\"Enter limit: \"))\n",
    "showNumbers(num)\n",
    "    "
   ]
  },
  {
   "cell_type": "code",
   "execution_count": null,
   "metadata": {},
   "outputs": [],
   "source": [
    "# Question 10: Write a program which can filter() to make a list whose elements are even number between 1 and 20 ( both included)\n",
    "\n"
   ]
  }
 ],
 "metadata": {
  "kernelspec": {
   "display_name": "Python 3",
   "language": "python",
   "name": "python3"
  },
  "language_info": {
   "codemirror_mode": {
    "name": "ipython",
    "version": 3
   },
   "file_extension": ".py",
   "mimetype": "text/x-python",
   "name": "python",
   "nbconvert_exporter": "python",
   "pygments_lexer": "ipython3",
   "version": "3.7.4"
  }
 },
 "nbformat": 4,
 "nbformat_minor": 4
}
