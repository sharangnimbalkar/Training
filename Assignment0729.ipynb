{
 "cells": [
  {
   "cell_type": "code",
   "execution_count": 1,
   "metadata": {},
   "outputs": [
    {
     "name": "stdin",
     "output_type": "stream",
     "text": [
      " 9\n"
     ]
    },
    {
     "name": "stdout",
     "output_type": "stream",
     "text": [
      "Consultadd\n"
     ]
    }
   ],
   "source": [
    "# Question 1: Write a program in Python to perform the following operation\n",
    "\n",
    "num = int(input())\n",
    "if num%3==0 and num%5==0:\n",
    "    print(\"Consultadd Python Training\")\n",
    "elif num%5==0:\n",
    "    print(\"c\")\n",
    "elif num%3==0:\n",
    "    print(\"Consultadd\")"
   ]
  },
  {
   "cell_type": "code",
   "execution_count": 2,
   "metadata": {},
   "outputs": [
    {
     "name": "stdout",
     "output_type": "stream",
     "text": [
      "\n",
      " 1. Addition \n",
      " 2. Substraction \n",
      " 3. Division \n",
      " 4. Multiplication \n",
      " 5. Average\n"
     ]
    },
    {
     "name": "stdin",
     "output_type": "stream",
     "text": [
      "Enter your choice: 5\n",
      "Enter num 1: 2\n",
      "Enter num 2: 3\n",
      "Enter num 3: 7\n",
      "Enter num 4: 5\n"
     ]
    },
    {
     "name": "stdout",
     "output_type": "stream",
     "text": [
      "Average: 4.25\n"
     ]
    }
   ],
   "source": [
    "# Question 2: Ask the user to choose the following option first:\n",
    "\n",
    "print(\"\\n 1. Addition \\n 2. Substraction \\n 3. Division \\n 4. Multiplication \\n 5. Average\")\n",
    "Op = int(input(\"Enter your choice:\"))\n",
    "\n",
    "first = int(input(\"Enter num 1:\"))\n",
    "second = int(input(\"Enter num 2:\"))\n",
    "\n",
    "if Op == 1:\n",
    "    res = first + second\n",
    "    print(res)\n",
    "elif Op == 2:\n",
    "    res = first - second\n",
    "    print(res)\n",
    "elif Op == 3:\n",
    "    res = first/second\n",
    "    print(res)\n",
    "elif Op == 4:\n",
    "    res = first*second\n",
    "    print(res)\n",
    "elif Op == 5:\n",
    "    first1 = int(input(\"Enter num 3:\"))\n",
    "    second2 = int(input(\"Enter num 4:\"))\n",
    "    res = (first + second + first1 + second2)/4\n",
    "    print(\"Average:\",res)\n",
    "else:\n",
    "    print(\"Invalid choice!\")\n",
    "\n",
    "if(res)<0:\n",
    "    print(\"Zsa\")\n",
    "\n",
    "\n"
   ]
  },
  {
   "cell_type": "code",
   "execution_count": 3,
   "metadata": {},
   "outputs": [
    {
     "name": "stdin",
     "output_type": "stream",
     "text": [
      " 2\n",
      " 20\n",
      " 3\n"
     ]
    },
    {
     "name": "stdout",
     "output_type": "stream",
     "text": [
      "avg 8.333333333333334\n",
      "avg is higher than a,c\n"
     ]
    }
   ],
   "source": [
    "# Question 3: Write a program in Python to implement the given flowchart:\n",
    "\n",
    "a = int(input())\n",
    "b = int(input())\n",
    "c = int(input())\n",
    "\n",
    "avg = (a+b+c)/3\n",
    "print(\"avg\", avg)\n",
    "\n",
    "if((avg > a) and (avg > b) and (avg > c)):\n",
    "    print(\"avg is higher than a,b,c,g\")\n",
    "else:\n",
    "    if(avg> a and avg>b):\n",
    "        print(\"avg is higher than a,b\")\n",
    "    elif(avg> a and avg>c):\n",
    "        print(\"avg is higher than a,c\")\n",
    "    elif(avg> b and avg>c):\n",
    "        print(\"avg is higher than b,c\")\n",
    "    elif(avg> a):\n",
    "        print(\"avg is just higher than a\")\n",
    "    else:\n",
    "        if(avg>b):\n",
    "            print(\"avg is just higher than b\")\n",
    "        else:\n",
    "            if(avg>c):\n",
    "                print(\"avg is just higher than c\")\n",
    "        \n",
    "\n",
    "        "
   ]
  },
  {
   "cell_type": "code",
   "execution_count": 4,
   "metadata": {},
   "outputs": [
    {
     "name": "stdin",
     "output_type": "stream",
     "text": [
      " -4\n",
      " 5\n"
     ]
    },
    {
     "name": "stdout",
     "output_type": "stream",
     "text": [
      "It's Over\n"
     ]
    }
   ],
   "source": [
    "# Question 4: Write a program in Python to break and continue if the following cases occurs:\n",
    "\n",
    "a = int(input())\n",
    "b = int(input())\n",
    "\n",
    "for item in range(1,2):\n",
    "    if(a >= 0) and (b >= 0):\n",
    "        print(\"Good Going\")\n",
    "        continue\n",
    "    elif (a<0) or (b<0):\n",
    "        print(\"It's Over\")\n",
    "        break\n",
    "        "
   ]
  },
  {
   "cell_type": "code",
   "execution_count": 5,
   "metadata": {},
   "outputs": [
    {
     "name": "stdout",
     "output_type": "stream",
     "text": [
      "2002\n",
      "2009\n",
      "2016\n",
      "2023\n",
      "2037\n",
      "2044\n",
      "2051\n",
      "2058\n",
      "2072\n",
      "2079\n",
      "2086\n",
      "2093\n",
      "2107\n",
      "2114\n",
      "2121\n",
      "2128\n",
      "2142\n",
      "2149\n",
      "2156\n",
      "2163\n",
      "2177\n",
      "2184\n",
      "2191\n",
      "2198\n",
      "2212\n",
      "2219\n",
      "2226\n",
      "2233\n",
      "2247\n",
      "2254\n",
      "2261\n",
      "2268\n",
      "2282\n",
      "2289\n",
      "2296\n",
      "2303\n",
      "2317\n",
      "2324\n",
      "2331\n",
      "2338\n",
      "2352\n",
      "2359\n",
      "2366\n",
      "2373\n",
      "2387\n",
      "2394\n",
      "2401\n",
      "2408\n",
      "2422\n",
      "2429\n",
      "2436\n",
      "2443\n",
      "2457\n",
      "2464\n",
      "2471\n",
      "2478\n",
      "2492\n",
      "2499\n",
      "2506\n",
      "2513\n",
      "2527\n",
      "2534\n",
      "2541\n",
      "2548\n",
      "2562\n",
      "2569\n",
      "2576\n",
      "2583\n",
      "2597\n",
      "2604\n",
      "2611\n",
      "2618\n",
      "2632\n",
      "2639\n",
      "2646\n",
      "2653\n",
      "2667\n",
      "2674\n",
      "2681\n",
      "2688\n",
      "2702\n",
      "2709\n",
      "2716\n",
      "2723\n",
      "2737\n",
      "2744\n",
      "2751\n",
      "2758\n",
      "2772\n",
      "2779\n",
      "2786\n",
      "2793\n",
      "2807\n",
      "2814\n",
      "2821\n",
      "2828\n",
      "2842\n",
      "2849\n",
      "2856\n",
      "2863\n",
      "2877\n",
      "2884\n",
      "2891\n",
      "2898\n",
      "2912\n",
      "2919\n",
      "2926\n",
      "2933\n",
      "2947\n",
      "2954\n",
      "2961\n",
      "2968\n",
      "2982\n",
      "2989\n",
      "2996\n",
      "3003\n",
      "3017\n",
      "3024\n",
      "3031\n",
      "3038\n",
      "3052\n",
      "3059\n",
      "3066\n",
      "3073\n",
      "3087\n",
      "3094\n",
      "3101\n",
      "3108\n",
      "3122\n",
      "3129\n",
      "3136\n",
      "3143\n",
      "3157\n",
      "3164\n",
      "3171\n",
      "3178\n",
      "3192\n",
      "3199\n"
     ]
    }
   ],
   "source": [
    "# Question 5: Write a program in Python which will find all such numbers which are divisible by 7 but are not a multiple of 5, between 2000 and 3200.\n",
    "\n",
    "for i in range(2000, 3200):\n",
    "    if(i%7==0):\n",
    "        if(i%5!=0):\n",
    "            print(i)"
   ]
  },
  {
   "cell_type": "code",
   "execution_count": 6,
   "metadata": {},
   "outputs": [
    {
     "name": "stdout",
     "output_type": "stream",
     "text": [
      "0\n",
      "1\n",
      "2\n",
      "3\n",
      "4\n",
      "5\n",
      "6\n",
      "7\n",
      "8\n",
      "9\n",
      "10\n",
      "11\n",
      "12\n",
      "13\n",
      "14\n",
      "15\n",
      "16\n",
      "17\n",
      "18\n",
      "19\n",
      "20\n",
      "21\n",
      "22\n",
      "23\n",
      "24\n",
      "25\n",
      "26\n",
      "27\n",
      "28\n",
      "29\n",
      "30\n",
      "31\n",
      "32\n",
      "33\n",
      "34\n",
      "35\n",
      "36\n",
      "37\n",
      "38\n",
      "39\n",
      "40\n",
      "41\n",
      "42\n",
      "43\n",
      "44\n",
      "45\n",
      "46\n",
      "47\n",
      "48\n",
      "49\n",
      "50\n",
      "51\n",
      "52\n",
      "53\n",
      "54\n",
      "55\n",
      "56\n",
      "57\n",
      "58\n",
      "59\n",
      "60\n",
      "61\n",
      "62\n",
      "63\n",
      "64\n",
      "65\n",
      "66\n",
      "67\n",
      "68\n",
      "69\n",
      "70\n",
      "71\n",
      "72\n",
      "73\n",
      "74\n",
      "75\n",
      "76\n",
      "77\n",
      "78\n",
      "79\n",
      "80\n",
      "81\n",
      "82\n",
      "83\n",
      "84\n",
      "85\n",
      "86\n",
      "87\n",
      "88\n",
      "89\n",
      "90\n",
      "91\n",
      "92\n",
      "93\n",
      "94\n",
      "95\n",
      "96\n",
      "97\n",
      "98\n",
      "99\n",
      "100\n",
      "101\n",
      "102\n",
      "103\n",
      "104\n",
      "105\n",
      "106\n",
      "107\n",
      "108\n",
      "109\n",
      "110\n",
      "111\n",
      "112\n",
      "113\n",
      "114\n",
      "115\n",
      "116\n",
      "117\n",
      "118\n",
      "119\n",
      "120\n",
      "121\n",
      "122\n"
     ]
    }
   ],
   "source": [
    "# Question 6: What is the output of the following code examples?\n",
    "\n",
    "x = 123\n",
    "for i in range(x):\n",
    "    print(i)"
   ]
  },
  {
   "cell_type": "code",
   "execution_count": 7,
   "metadata": {},
   "outputs": [
    {
     "name": "stdout",
     "output_type": "stream",
     "text": [
      "0\n",
      "error\n",
      "1\n",
      "error\n",
      "2\n"
     ]
    }
   ],
   "source": [
    "i = 0\n",
    "while i < 5:\n",
    "    print(i)\n",
    "    i+=1\n",
    "    if i == 3:\n",
    "        break\n",
    "    else:\n",
    "        print(\"error\")"
   ]
  },
  {
   "cell_type": "code",
   "execution_count": 8,
   "metadata": {},
   "outputs": [
    {
     "name": "stdout",
     "output_type": "stream",
     "text": [
      "0\n",
      "1\n",
      "2\n",
      "3\n",
      "4\n"
     ]
    }
   ],
   "source": [
    "count = 0\n",
    "while True:\n",
    "    print(count)\n",
    "    count += 1\n",
    "    if count >= 5:\n",
    "        break"
   ]
  },
  {
   "cell_type": "code",
   "execution_count": 9,
   "metadata": {},
   "outputs": [
    {
     "name": "stdout",
     "output_type": "stream",
     "text": [
      "0 1 2 4 5 "
     ]
    }
   ],
   "source": [
    "# Question 7: Write a program that prints all the numbers from 0 to 6 except 3 and 6.\n",
    "\n",
    "for i in range(0,6):\n",
    "    if(i == 3 or i == 6):\n",
    "        continue\n",
    "    else:\n",
    "        print(i, end=\" \")"
   ]
  },
  {
   "cell_type": "code",
   "execution_count": 10,
   "metadata": {},
   "outputs": [
    {
     "name": "stdin",
     "output_type": "stream",
     "text": [
      " consul12\n"
     ]
    },
    {
     "name": "stdout",
     "output_type": "stream",
     "text": [
      "Letters 6\n",
      "Digits 2\n"
     ]
    }
   ],
   "source": [
    "# Question 8: Write a program that accepts a string as an input from user and calculate the number of digits and letters.\n",
    "\n",
    "val = input()\n",
    "num = 0 \n",
    "ch = 0\n",
    "for i in val:\n",
    "    if i.isdigit():\n",
    "        num+=1\n",
    "    elif i.isalpha():\n",
    "        ch+=1\n",
    "print(\"Letters\", ch)\n",
    "print(\"Digits\", num)"
   ]
  },
  {
   "cell_type": "code",
   "execution_count": 12,
   "metadata": {},
   "outputs": [
    {
     "name": "stdin",
     "output_type": "stream",
     "text": [
      "Guess the lucky number: 2\n"
     ]
    },
    {
     "name": "stdout",
     "output_type": "stream",
     "text": [
      "incorrect guess 2\n"
     ]
    },
    {
     "name": "stdin",
     "output_type": "stream",
     "text": [
      " 3\n"
     ]
    },
    {
     "name": "stdout",
     "output_type": "stream",
     "text": [
      "incorrect guess 3\n"
     ]
    },
    {
     "name": "stdin",
     "output_type": "stream",
     "text": [
      " 4\n"
     ]
    },
    {
     "name": "stdout",
     "output_type": "stream",
     "text": [
      "incorrect guess 4\n"
     ]
    },
    {
     "name": "stdin",
     "output_type": "stream",
     "text": [
      " 5\n"
     ]
    },
    {
     "name": "stdout",
     "output_type": "stream",
     "text": [
      "incorrect guess 5\n"
     ]
    },
    {
     "name": "stdin",
     "output_type": "stream",
     "text": [
      " 6\n"
     ]
    },
    {
     "name": "stdout",
     "output_type": "stream",
     "text": [
      "correct guess 6\n"
     ]
    }
   ],
   "source": [
    "# Question 9: Read the two parts of the question below:\n",
    "\n",
    "# Write a program such that it asks users to “guess the lucky number”.\n",
    "\n",
    "from random import randint\n",
    "\n",
    "value = randint(0, 10)\n",
    "num = int(input(\"Guess the lucky number:\"))\n",
    "\n",
    "for i in range(1,10):\n",
    "    if(value==num):\n",
    "        print(\"correct guess\", value)\n",
    "        break\n",
    "    else:\n",
    "        print(\"incorrect guess\", num)\n",
    "        num = int(input())"
   ]
  },
  {
   "cell_type": "code",
   "execution_count": 14,
   "metadata": {},
   "outputs": [
    {
     "name": "stdin",
     "output_type": "stream",
     "text": [
      "Guess the lucky number: 1\n"
     ]
    },
    {
     "name": "stdout",
     "output_type": "stream",
     "text": [
      "incorrect guess 1\n",
      "\n"
     ]
    },
    {
     "name": "stdin",
     "output_type": "stream",
     "text": [
      "Do you want to continue: \n",
      " 1. Yes \n",
      " 2. No \n",
      " 1\n",
      "Again guess the lucky number: 3\n"
     ]
    },
    {
     "name": "stdout",
     "output_type": "stream",
     "text": [
      "incorrect guess 1\n",
      "\n"
     ]
    },
    {
     "name": "stdin",
     "output_type": "stream",
     "text": [
      "Do you want to continue: \n",
      " 1. Yes \n",
      " 2. No \n",
      " 2\n"
     ]
    },
    {
     "name": "stdout",
     "output_type": "stream",
     "text": [
      "Exit\n",
      "Lucky number was:  2\n"
     ]
    }
   ],
   "source": [
    "# Modify the program so that it asks users whether they want to guess again each time.\n",
    "\n",
    "from random import randint\n",
    "\n",
    "val = randint(0, 10)\n",
    "number = int(input(\"Guess the lucky number:\"))\n",
    "\n",
    "for i in range(1,10):\n",
    "    if(val==number):\n",
    "        print(\"correct guess\", val)\n",
    "        break\n",
    "    else:\n",
    "        print(\"incorrect guess\", number)\n",
    "        print(\"\")\n",
    "        answer = int(input(\"Do you want to continue: \\n 1. Yes \\n 2. No \\n\"))\n",
    "        if(answer == 1):\n",
    "            num = int(input(\"Again guess the lucky number:\"))\n",
    "        else:\n",
    "            print(\"Exit\")\n",
    "            print(\"Lucky number was: \", val)\n",
    "            break"
   ]
  },
  {
   "cell_type": "code",
   "execution_count": 15,
   "metadata": {},
   "outputs": [
    {
     "name": "stdout",
     "output_type": "stream",
     "text": [
      "Type in the 1 number\n"
     ]
    },
    {
     "name": "stdin",
     "output_type": "stream",
     "text": [
      " 5\n"
     ]
    },
    {
     "name": "stdout",
     "output_type": "stream",
     "text": [
      "Try again!\n",
      "Type in the 2 number\n"
     ]
    },
    {
     "name": "stdin",
     "output_type": "stream",
     "text": [
      " 6\n"
     ]
    },
    {
     "name": "stdout",
     "output_type": "stream",
     "text": [
      "Try again!\n",
      "Type in the 3 number\n"
     ]
    },
    {
     "name": "stdin",
     "output_type": "stream",
     "text": [
      " 7\n"
     ]
    },
    {
     "name": "stdout",
     "output_type": "stream",
     "text": [
      "Try again!\n",
      "Type in the 4 number\n"
     ]
    },
    {
     "name": "stdin",
     "output_type": "stream",
     "text": [
      " 2\n"
     ]
    },
    {
     "name": "stdout",
     "output_type": "stream",
     "text": [
      "Try again!\n",
      "Type in the 5 number\n"
     ]
    },
    {
     "name": "stdin",
     "output_type": "stream",
     "text": [
      " 1\n"
     ]
    },
    {
     "name": "stdout",
     "output_type": "stream",
     "text": [
      "Try again!\n",
      "Game Over!\n"
     ]
    }
   ],
   "source": [
    "# Question 10: Write a program that asks five times to guess the lucky number.\n",
    "\n",
    "from random import randint\n",
    "\n",
    "val = randint(0, 20)\n",
    "\n",
    "flag = 0\n",
    "counter = 1\n",
    "while counter <= 5:\n",
    "    print(\"Type in the\", counter, \"number\")\n",
    "    num = int(input())\n",
    "    if(num == val):\n",
    "        flag = 1\n",
    "        print(\"Good Guess!\", val)\n",
    "    else:\n",
    "        print(\"Try again!\")\n",
    "    counter+=1\n",
    "if flag == 1:\n",
    "    print(\"Guessed right, Game Over!\")\n",
    "else:\n",
    "    print(\"Game Over!\")"
   ]
  },
  {
   "cell_type": "code",
   "execution_count": 16,
   "metadata": {},
   "outputs": [
    {
     "name": "stdout",
     "output_type": "stream",
     "text": [
      "Type in the 1 number\n"
     ]
    },
    {
     "name": "stdin",
     "output_type": "stream",
     "text": [
      " 2\n"
     ]
    },
    {
     "name": "stdout",
     "output_type": "stream",
     "text": [
      "Try again!\n",
      "Type in the 2 number\n"
     ]
    },
    {
     "name": "stdin",
     "output_type": "stream",
     "text": [
      " 3\n"
     ]
    },
    {
     "name": "stdout",
     "output_type": "stream",
     "text": [
      "Try again!\n",
      "Type in the 3 number\n"
     ]
    },
    {
     "name": "stdin",
     "output_type": "stream",
     "text": [
      " 4\n"
     ]
    },
    {
     "name": "stdout",
     "output_type": "stream",
     "text": [
      "Try again!\n",
      "Type in the 4 number\n"
     ]
    },
    {
     "name": "stdin",
     "output_type": "stream",
     "text": [
      " 5\n"
     ]
    },
    {
     "name": "stdout",
     "output_type": "stream",
     "text": [
      "Try again!\n",
      "Type in the 5 number\n"
     ]
    },
    {
     "name": "stdin",
     "output_type": "stream",
     "text": [
      " 8\n"
     ]
    },
    {
     "name": "stdout",
     "output_type": "stream",
     "text": [
      "Try again!\n",
      "Sorry but that was not very successful\n"
     ]
    }
   ],
   "source": [
    "# Question 11: In the previous question, insert “break” after the “Good guess!” print statement.\n",
    "\n",
    "from random import randint\n",
    "\n",
    "val = randint(0, 20)\n",
    "\n",
    "flag = 0\n",
    "counter = 1\n",
    "while counter <= 5:\n",
    "    print(\"Type in the\", counter, \"number\")\n",
    "    num = int(input())\n",
    "    if(num == val):\n",
    "        flag = 1\n",
    "        print(\"Good Guess!\", val)\n",
    "        break\n",
    "    else:\n",
    "        print(\"Try again!\")\n",
    "    counter+=1\n",
    "if flag == 1:\n",
    "    print(\"Guessed right, Game Over!\")\n",
    "else:\n",
    "    print(\"Sorry but that was not very successful\")"
   ]
  },
  {
   "cell_type": "code",
   "execution_count": null,
   "metadata": {},
   "outputs": [],
   "source": []
  }
 ],
 "metadata": {
  "kernelspec": {
   "display_name": "Python 3",
   "language": "python",
   "name": "python3"
  },
  "language_info": {
   "codemirror_mode": {
    "name": "ipython",
    "version": 3
   },
   "file_extension": ".py",
   "mimetype": "text/x-python",
   "name": "python",
   "nbconvert_exporter": "python",
   "pygments_lexer": "ipython3",
   "version": "3.7.4"
  }
 },
 "nbformat": 4,
 "nbformat_minor": 4
}
