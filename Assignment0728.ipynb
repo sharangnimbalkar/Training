{
 "cells": [
  {
   "cell_type": "code",
   "execution_count": 1,
   "metadata": {},
   "outputs": [
    {
     "name": "stdin",
     "output_type": "stream",
     "text": [
      " 15\n"
     ]
    },
    {
     "name": "stdout",
     "output_type": "stream",
     "text": [
      "Consultadd Python Training\n"
     ]
    }
   ],
   "source": [
    "# Question 1: Write a program in Python to perform the following operation\n",
    "\n",
    "num = int(input())\n",
    "if num%3==0 and num%5==0:\n",
    "    print(\"Consultadd Python Training\")\n",
    "elif num%5==0:\n",
    "    print(\"c\")\n",
    "elif num%3==0:\n",
    "    print(\"Consultadd\")"
   ]
  },
  {
   "cell_type": "code",
   "execution_count": 2,
   "metadata": {},
   "outputs": [
    {
     "name": "stdout",
     "output_type": "stream",
     "text": [
      "\n",
      " 1. Addition \n",
      " 2. Substraction \n",
      " 3. Division \n",
      " 4. Multiplication \n",
      " 5. Average\n"
     ]
    },
    {
     "name": "stdin",
     "output_type": "stream",
     "text": [
      "Enter your choice: 5\n",
      "Enter num 1: -3\n",
      "Enter num 2: -5\n",
      "Enter num 3: -9\n",
      "Enter num 4: -1\n"
     ]
    },
    {
     "name": "stdout",
     "output_type": "stream",
     "text": [
      "Average: -4.5\n",
      "Zsa\n"
     ]
    }
   ],
   "source": [
    "### Question 2: Ask the user to choose the following option first:\n",
    "\n",
    "print(\"\\n 1. Addition \\n 2. Substraction \\n 3. Division \\n 4. Multiplication \\n 5. Average\")\n",
    "Op = int(input(\"Enter your choice:\"))\n",
    "\n",
    "first = int(input(\"Enter num 1:\"))\n",
    "second = int(input(\"Enter num 2:\"))\n",
    "\n",
    "if Op == 1:\n",
    "    res = first + second\n",
    "    print(res)\n",
    "elif Op == 2:\n",
    "    res = first - second\n",
    "    print(res)\n",
    "elif Op == 3:\n",
    "    res = first/second\n",
    "    print(res)\n",
    "elif Op == 4:\n",
    "    res = first*second\n",
    "    print(res)\n",
    "elif Op == 5:\n",
    "    first1 = int(input(\"Enter num 3:\"))\n",
    "    second2 = int(input(\"Enter num 4:\"))\n",
    "    res = (first + second + first1 + second2)/4\n",
    "    print(\"Average:\",res)\n",
    "else:\n",
    "    print(\"Invalid choice!\")\n",
    "\n",
    "if(res)<0:\n",
    "    print(\"Zsa\")\n",
    "\n",
    "\n"
   ]
  },
  {
   "cell_type": "code",
   "execution_count": null,
   "metadata": {},
   "outputs": [],
   "source": []
  }
 ],
 "metadata": {
  "kernelspec": {
   "display_name": "Python 3",
   "language": "python",
   "name": "python3"
  },
  "language_info": {
   "codemirror_mode": {
    "name": "ipython",
    "version": 3
   },
   "file_extension": ".py",
   "mimetype": "text/x-python",
   "name": "python",
   "nbconvert_exporter": "python",
   "pygments_lexer": "ipython3",
   "version": "3.7.4"
  }
 },
 "nbformat": 4,
 "nbformat_minor": 4
}
